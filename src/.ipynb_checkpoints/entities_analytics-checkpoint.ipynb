{
 "cells": [
  {
   "cell_type": "code",
   "execution_count": 1,
   "metadata": {},
   "outputs": [
    {
     "name": "stderr",
     "output_type": "stream",
     "text": [
      "I0202 21:33:16.466014 4678448576 file_utils.py:35] PyTorch version 1.3.0 available.\n",
      "I0202 21:33:18.815322 4678448576 __init__.py:23] Loading model from /Users/shanzhu/.neuralcoref_cache/neuralcoref\n"
     ]
    }
   ],
   "source": [
    "import warnings\n",
    "warnings.filterwarnings('ignore')\n",
    "from summarizer import Summarizer #pretrained model to extract important sentences\n",
    "import spacy # with pretrained model to recognize entities\n",
    "import pandas\n",
    "import os\n",
    "from nltk.tokenize import sent_tokenize\n",
    "from sentence_transformers import SentenceTransformer\n",
    "from scipy.spatial.distance import cosine\n",
    "import numpy as np\n",
    "from matplotlib import pyplot as plt\n",
    "package_dir = os.path.dirname(os.path.realpath('__file__'))\n",
    "thefile = os.path.join(package_dir, '../data/summary_ents.csv')"
   ]
  },
  {
   "cell_type": "code",
   "execution_count": 2,
   "metadata": {},
   "outputs": [],
   "source": [
    "df=pandas.read_csv(thefile)"
   ]
  },
  {
   "cell_type": "code",
   "execution_count": 3,
   "metadata": {},
   "outputs": [],
   "source": [
    "import re\n",
    "def remove_unrelated(string):\n",
    "    \"\"\"\n",
    "    further clean and remove unrelated content\n",
    "    \"\"\"\n",
    "    unr=['To learn more','For more information','Contact:','Original press','Further information']\n",
    "    for i in unr:\n",
    "        idx=string.find(i)\n",
    "        if idx!=-1:\n",
    "            string=string[:idx]\n",
    "    #string=re.sub('\\W+',' ',string) \n",
    "    string=re.sub(r'www.\\S+', '',string)#remove url\n",
    "    string=re.sub(r'[\\w\\.-]+@[\\w\\.-]+','', string)#remove email\n",
    "    return string"
   ]
  },
  {
   "cell_type": "code",
   "execution_count": 4,
   "metadata": {},
   "outputs": [],
   "source": [
    "df['content']=df['content'].apply(lambda x: remove_unrelated(x))"
   ]
  },
  {
   "cell_type": "code",
   "execution_count": 5,
   "metadata": {},
   "outputs": [],
   "source": [
    "df['summary']=df['summary'].apply(lambda x: remove_unrelated(str(x)))"
   ]
  },
  {
   "cell_type": "code",
   "execution_count": 6,
   "metadata": {},
   "outputs": [],
   "source": [
    "import os\n",
    "package_dir = os.path.dirname(os.path.abspath('__file__'))\n",
    "thefile = os.path.join(package_dir,'../data/sum_ents.csv')\n",
    "df.to_csv(thefile)"
   ]
  },
  {
   "cell_type": "code",
   "execution_count": 7,
   "metadata": {},
   "outputs": [
    {
     "data": {
      "text/plain": [
       "'CMCIA Changes Name to Cannabis Canada Association – Evolution to Prepare for Both Medical and Consumer Cannabis Markets   OTTAWA, May 18, 2016 /CNW Telbec/ – The Canadian Medical Cannabis Industry Association (CMCIA) is pleased to announce that its member Licensed Producers have voted to change the Association’s name to Cannabis Canada Association (Cannabis Canada). The members of the Association met in January 2016 and developed a strategic plan for the next five years. Membership to be expanded beyond Licensed Producers Association membership will also be opened to embrace a wider range of stakeholders. The Association serves as a trusted resource on issues related to the safe and responsible use of cannabis for medical and non-medical purposes.'"
      ]
     },
     "execution_count": 7,
     "metadata": {},
     "output_type": "execute_result"
    }
   ],
   "source": [
    "df.summary.iloc[35]"
   ]
  },
  {
   "cell_type": "code",
   "execution_count": 8,
   "metadata": {},
   "outputs": [
    {
     "data": {
      "text/plain": [
       "' Foria, the sexual health and wellness cannabis company, will launch a novel cannabis product tomorrow, June 1st.  Foria Explore, an anal suppository that contains 60mg of THC and 10mg of CBD in a base of jojoba extract and organic sunflower lecithin, is designed for pelvic relaxation, diminished discomfort, heightened pleasure, release of tension and deeper penetration, according to the company’s website. Foria Explore is available only in California initially and is priced at $64 for a package of 8 suppositories, with an initial shipping date of June 6th. CEO Mathew Gerson first discussed the company’s third product at the recent Green Flower Media Cannabis Entrepreneur Summit, where he described building the Foria brand in a panel discussion. Foria’s first product, Foria Pleasure, is a spray lubricant designed to intensify the female orgasm. Earlier this year, the company launched Foria Relief, a vaginal suppository intended to mitigate the symptoms associated with menstruation. For an interesting perspective, read Nic Juarez’s “First Look at Floria Explore,” as he makes the case that Foria may be making history by targeting the LGBT community with the first cannabis product of this nature. He suggests that Foria Explore provides an alternative to alkyl nitrites (poppers). Juarez also indicated that SPARC dispensary will begin selling the product in late June. '"
      ]
     },
     "execution_count": 8,
     "metadata": {},
     "output_type": "execute_result"
    }
   ],
   "source": [
    "df.content.iloc[55]"
   ]
  },
  {
   "cell_type": "code",
   "execution_count": 9,
   "metadata": {},
   "outputs": [],
   "source": [
    "from wordcloud import WordCloud, STOPWORDS, ImageColorGenerator\n",
    "def cloudW(df,file,column):\n",
    "    text=df[column].str.cat(sep='. ')\n",
    "    stopwords=set(STOPWORDS)\n",
    "    stopwords.update(['cannabis','marijuana','will','company','release','press'])\n",
    "    fig=plt.figure(figsize=(18, 16), dpi= 80, facecolor='w', edgecolor='k')\n",
    "    wordcloud = WordCloud(stopwords=stopwords, background_color=\"white\").generate(text)\n",
    "    #wordcloud.to_file(file)\n",
    "    plt.imshow(wordcloud, interpolation='bilinear')\n",
    "    plt.axis(\"off\")\n",
    "    #plt.show()\n",
    "    plt.savefig(file, dpi=300, bbox_inches='tight')\n",
    "    plt.close()"
   ]
  },
  {
   "cell_type": "code",
   "execution_count": 10,
   "metadata": {},
   "outputs": [],
   "source": [
    "orgs=['Tweed','Aurora', 'GW', 'Canopy Growth','Aphria','FDA','Health Canada','Shoppers Drug Mart']\n",
    "for org in orgs:\n",
    "    cloudW(df[df[org]==1],package_dir+'/imgs/'+org+'.png','content')"
   ]
  },
  {
   "cell_type": "code",
   "execution_count": 11,
   "metadata": {},
   "outputs": [],
   "source": [
    "cloudW(df[(df['date'] > '2019-1-1 01:00:00') & (df['date'] <= '2020-1-1 04:00:00')],package_dir+'/imgs/'+'161'+'.png','content')"
   ]
  },
  {
   "cell_type": "code",
   "execution_count": 12,
   "metadata": {},
   "outputs": [],
   "source": [
    "cloudW(df[df['Ca']==1],package_dir+'/imgs/'+'canada'+'.png','content')"
   ]
  },
  {
   "cell_type": "code",
   "execution_count": null,
   "metadata": {},
   "outputs": [],
   "source": []
  }
 ],
 "metadata": {
  "kernelspec": {
   "display_name": "Python 3",
   "language": "python",
   "name": "python3"
  },
  "language_info": {
   "codemirror_mode": {
    "name": "ipython",
    "version": 3
   },
   "file_extension": ".py",
   "mimetype": "text/x-python",
   "name": "python",
   "nbconvert_exporter": "python",
   "pygments_lexer": "ipython3",
   "version": "3.7.2"
  }
 },
 "nbformat": 4,
 "nbformat_minor": 2
}
